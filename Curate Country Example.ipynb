{
 "cells": [
  {
   "cell_type": "code",
   "execution_count": 2,
   "metadata": {
    "collapsed": false
   },
   "outputs": [
    {
     "name": "stdout",
     "output_type": "stream",
     "text": [
      "Welcome, Larsson Omberg!\n",
      "\n"
     ]
    }
   ],
   "source": [
    "import synapseclient\n",
    "from synapseclient import File\n",
    "import synapseutils\n",
    "import pandas as pd\n",
    "from IPython.display import display\n",
    "\n",
    "syn = synapseclient.login()\n",
    "PROJECTID = 'syn8316993'"
   ]
  },
  {
   "cell_type": "markdown",
   "metadata": {},
   "source": [
    "# Find the files that were uploaded with a query"
   ]
  },
  {
   "cell_type": "code",
   "execution_count": null,
   "metadata": {
    "collapsed": false
   },
   "outputs": [],
   "source": [
    "files = synapseutils.query2df(syn.chunkedQuery('select name from file where parentId==\"syn8317652\"'))\n",
    "files = map(syn.get, files.id)"
   ]
  },
  {
   "cell_type": "markdown",
   "metadata": {},
   "source": [
    "# Read in the data"
   ]
  },
  {
   "cell_type": "code",
   "execution_count": null,
   "metadata": {
    "collapsed": false
   },
   "outputs": [],
   "source": [
    "dfs = [pd.read_csv(f.path) for f in files]\n",
    "display(dfs[0].head())\n",
    "display(dfs[1].head())\n",
    "display(dfs[3].head())"
   ]
  },
  {
   "cell_type": "markdown",
   "metadata": {},
   "source": [
    "# Convert consumption"
   ]
  },
  {
   "cell_type": "code",
   "execution_count": null,
   "metadata": {
    "collapsed": false
   },
   "outputs": [],
   "source": [
    "name_translation = {'sweden.csv': 'Sweden', \n",
    "                    'germany.csv': 'Germany',\n",
    "                    'france.csv': 'France',\n",
    "                    'usa.csv': 'United States'}\n",
    "\n",
    "merged = []\n",
    "for f, df in zip(files, dfs):\n",
    "    cols = list(set(['beer', 'wine', 'vokda']) & set(df.columns))\n",
    "    df['alcohol'] = df[cols].sum(1)\n",
    "    df['country'] = name_translation[f.name]\n",
    "    df.drop(cols, axis=1, inplace=True)\n",
    "    display(df.head())\n",
    "    merged.append(df)\n",
    "\n",
    "df = pd.concat(merged)"
   ]
  },
  {
   "cell_type": "markdown",
   "metadata": {},
   "source": [
    "### Push the content back to Synapse"
   ]
  },
  {
   "cell_type": "code",
   "execution_count": null,
   "metadata": {
    "collapsed": false
   },
   "outputs": [],
   "source": [
    "df.to_csv('merged_alcohol_consumption.csv', index=False)\n",
    "outfile = File('merged_alcohol_consumption.csv', parentId=PROJECTID)\n",
    "outfile = syn.store(outfile, used=files)"
   ]
  },
  {
   "cell_type": "code",
   "execution_count": null,
   "metadata": {
    "collapsed": false
   },
   "outputs": [],
   "source": [
    "syn.onweb(outfile)"
   ]
  },
  {
   "cell_type": "code",
   "execution_count": null,
   "metadata": {
    "collapsed": true
   },
   "outputs": [],
   "source": []
  }
 ],
 "metadata": {
  "kernelspec": {
   "display_name": "Python 2",
   "language": "python",
   "name": "python2"
  },
  "language_info": {
   "codemirror_mode": {
    "name": "ipython",
    "version": 2
   },
   "file_extension": ".py",
   "mimetype": "text/x-python",
   "name": "python",
   "nbconvert_exporter": "python",
   "pygments_lexer": "ipython2",
   "version": "2.7.12"
  }
 },
 "nbformat": 4,
 "nbformat_minor": 0
}
